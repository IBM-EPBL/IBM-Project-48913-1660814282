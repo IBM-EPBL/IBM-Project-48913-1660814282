{
 "cells": [
  {
   "cell_type": "code",
   "execution_count": 18,
   "id": "7c44918e",
   "metadata": {},
   "outputs": [],
   "source": [
    "import numpy as np#used for numerical analysis\n",
    "import tensorflow #open source used for both ML and DL for computation\n",
    "from tensorflow.keras.models import Sequential #it is a plain stack of layers\n",
    "from tensorflow.keras import layers #A layer consists of a tensor-in tensor-out computation function\n",
    "#Dense layer is the regular deeply connected neural network layer\n",
    "from tensorflow.keras.layers import Dense,Flatten\n",
    "#Faltten-used fot flattening the input or change the dimension\n",
    "from tensorflow.keras.layers import Conv2D,MaxPooling2D,Dropout #Convolutional layer\n",
    "#MaxPooling2D-for downsampling the image\n",
    "from keras.preprocessing.image import ImageDataGenerator\n",
    "import os"
   ]
  },
  {
   "cell_type": "code",
   "execution_count": 2,
   "id": "8b213917",
   "metadata": {},
   "outputs": [],
   "source": [
    "#setting parameter for Image Data agumentation to the training data\n",
    "train_datagen = ImageDataGenerator(rescale=1./255,shear_range=0.2,zoom_range=0.2,horizontal_flip=True)\n",
    "#Image Data agumentation to the testing data\n",
    "test_datagen=ImageDataGenerator(rescale=1./255)"
   ]
  },
  {
   "cell_type": "code",
   "execution_count": 3,
   "id": "0e71cf36",
   "metadata": {},
   "outputs": [
    {
     "name": "stdout",
     "output_type": "stream",
     "text": [
      "Found 1029 images belonging to 5 classes.\n",
      "Found 1029 images belonging to 5 classes.\n"
     ]
    }
   ],
   "source": [
    "#performing data agumentation to train data\n",
    "x_train = train_datagen.flow_from_directory(\n",
    "    r'D:\\AI nutrition analyzer\\Dataset\\TEST_SET',\n",
    "    target_size=(64, 64),batch_size=5,color_mode='rgb',class_mode='sparse')\n",
    "#performing data agumentation to test data\n",
    "x_test = test_datagen.flow_from_directory(\n",
    "    r'D:\\AI nutrition analyzer\\Dataset\\TEST_SET',\n",
    "    target_size=(64, 64),batch_size=5,color_mode='rgb',class_mode='sparse') "
   ]
  },
  {
   "cell_type": "code",
   "execution_count": 4,
   "id": "5147241d",
   "metadata": {},
   "outputs": [
    {
     "name": "stdout",
     "output_type": "stream",
     "text": [
      "{'APPLES': 0, 'BANANA': 1, 'ORANGE': 2, 'PINEAPPLE': 3, 'WATERMELON': 4}\n",
      "{'APPLES': 0, 'BANANA': 1, 'ORANGE': 2, 'PINEAPPLE': 3, 'WATERMELON': 4}\n"
     ]
    }
   ],
   "source": [
    "print(x_train.class_indices)#checking the number of classes\n",
    "print(x_test.class_indices)#checking the number of classes"
   ]
  },
  {
   "cell_type": "code",
   "execution_count": 5,
   "id": "b6001f03",
   "metadata": {},
   "outputs": [
    {
     "data": {
      "text/plain": [
       "Counter({0: 217, 1: 415, 2: 248, 3: 70, 4: 79})"
      ]
     },
     "execution_count": 5,
     "metadata": {},
     "output_type": "execute_result"
    }
   ],
   "source": [
    "from collections import Counter as c\n",
    "c(x_train .labels)"
   ]
  },
  {
   "cell_type": "code",
   "execution_count": 6,
   "id": "eed77ded",
   "metadata": {},
   "outputs": [
    {
     "data": {
      "text/plain": [
       "Counter({0: 217, 1: 415, 2: 248, 3: 70, 4: 79})"
      ]
     },
     "execution_count": 6,
     "metadata": {},
     "output_type": "execute_result"
    }
   ],
   "source": [
    "from collections import Counter as c\n",
    "c(x_test .labels)"
   ]
  },
  {
   "cell_type": "code",
   "execution_count": 7,
   "id": "30141de4",
   "metadata": {},
   "outputs": [],
   "source": [
    "# Initializing the CNN\n",
    "classifier = Sequential()\n",
    "\n",
    "# First convolution layer and pooling\n",
    "classifier.add(Conv2D(32, (3, 3), input_shape=(64, 64, 3), activation='relu'))\n",
    "classifier.add(MaxPooling2D(pool_size=(2, 2)))\n",
    "\n",
    "# Second convolution layer and pooling\n",
    "classifier.add(Conv2D(32, (3, 3), activation='relu'))\n",
    "c\n",
    "# input_shape is going to be the pooled feature maps from the previous convolution layer\n",
    "classifier.add(MaxPooling2D(pool_size=(2, 2)))\n",
    "\n",
    "# Flattening the layers\n",
    "classifier.add(Flatten())\n",
    "\n",
    "# Adding a fully connected layer\n",
    "classifier.add(Dense(units=128, activation='relu'))\n",
    "classifier.add(Dense(units=5, activation='softmax')) # softmax for more than 2\n",
    "\n"
   ]
  },
  {
   "cell_type": "code",
   "execution_count": 8,
   "id": "b79a0e28",
   "metadata": {},
   "outputs": [
    {
     "name": "stdout",
     "output_type": "stream",
     "text": [
      "Model: \"sequential\"\n",
      "_________________________________________________________________\n",
      "Layer (type)                 Output Shape              Param #   \n",
      "=================================================================\n",
      "conv2d (Conv2D)              (None, 62, 62, 32)        896       \n",
      "_________________________________________________________________\n",
      "max_pooling2d (MaxPooling2D) (None, 31, 31, 32)        0         \n",
      "_________________________________________________________________\n",
      "conv2d_1 (Conv2D)            (None, 29, 29, 32)        9248      \n",
      "_________________________________________________________________\n",
      "max_pooling2d_1 (MaxPooling2 (None, 14, 14, 32)        0         \n",
      "_________________________________________________________________\n",
      "flatten (Flatten)            (None, 6272)              0         \n",
      "_________________________________________________________________\n",
      "dense (Dense)                (None, 128)               802944    \n",
      "_________________________________________________________________\n",
      "dense_1 (Dense)              (None, 5)                 645       \n",
      "=================================================================\n",
      "Total params: 813,733\n",
      "Trainable params: 813,733\n",
      "Non-trainable params: 0\n",
      "_________________________________________________________________\n"
     ]
    }
   ],
   "source": [
    "classifier.summary()#summary of our model"
   ]
  },
  {
   "cell_type": "code",
   "execution_count": 9,
   "id": "8f219bd2",
   "metadata": {},
   "outputs": [],
   "source": [
    "# Compiling the CNN\n",
    "# categorical_crossentropy for more than 2\n",
    "classifier.compile(optimizer='adam', loss='sparse_categorical_crossentropy', metrics=['accuracy']) "
   ]
  },
  {
   "cell_type": "code",
   "execution_count": 10,
   "id": "235b8c1f",
   "metadata": {
    "scrolled": true
   },
   "outputs": [
    {
     "name": "stdout",
     "output_type": "stream",
     "text": [
      "WARNING:tensorflow:sample_weight modes were coerced from\n",
      "  ...\n",
      "    to  \n",
      "  ['...']\n",
      "WARNING:tensorflow:sample_weight modes were coerced from\n",
      "  ...\n",
      "    to  \n",
      "  ['...']\n",
      "Train for 206 steps, validate for 206 steps\n",
      "Epoch 1/20\n",
      "206/206 [==============================] - 14s 67ms/step - loss: 1.1980 - accuracy: 0.5403 - val_loss: 0.9148 - val_accuracy: 0.6686\n",
      "Epoch 2/20\n",
      "206/206 [==============================] - 11s 53ms/step - loss: 1.0019 - accuracy: 0.6375 - val_loss: 0.8460 - val_accuracy: 0.7007\n",
      "Epoch 3/20\n",
      "206/206 [==============================] - 11s 52ms/step - loss: 0.9196 - accuracy: 0.6667 - val_loss: 0.9663 - val_accuracy: 0.6229\n",
      "Epoch 4/20\n",
      "206/206 [==============================] - 10s 51ms/step - loss: 0.8728 - accuracy: 0.6638 - val_loss: 0.7840 - val_accuracy: 0.7133\n",
      "Epoch 5/20\n",
      "206/206 [==============================] - 11s 51ms/step - loss: 0.8067 - accuracy: 0.6890 - val_loss: 0.7094 - val_accuracy: 0.7444\n",
      "Epoch 6/20\n",
      "206/206 [==============================] - 11s 52ms/step - loss: 0.7200 - accuracy: 0.7347 - val_loss: 0.6471 - val_accuracy: 0.7648\n",
      "Epoch 7/20\n",
      "206/206 [==============================] - 10s 51ms/step - loss: 0.6938 - accuracy: 0.7250 - val_loss: 0.8932 - val_accuracy: 0.6706\n",
      "Epoch 8/20\n",
      "206/206 [==============================] - 11s 51ms/step - loss: 0.6204 - accuracy: 0.7784 - val_loss: 0.5076 - val_accuracy: 0.8076\n",
      "Epoch 9/20\n",
      "206/206 [==============================] - 11s 51ms/step - loss: 0.5960 - accuracy: 0.7823 - val_loss: 0.6020 - val_accuracy: 0.7794\n",
      "Epoch 10/20\n",
      "206/206 [==============================] - 10s 51ms/step - loss: 0.5655 - accuracy: 0.7949 - val_loss: 0.4114 - val_accuracy: 0.8542\n",
      "Epoch 11/20\n",
      "206/206 [==============================] - 11s 52ms/step - loss: 0.4940 - accuracy: 0.8270 - val_loss: 0.2845 - val_accuracy: 0.8999\n",
      "Epoch 12/20\n",
      "206/206 [==============================] - 11s 52ms/step - loss: 0.4334 - accuracy: 0.8377 - val_loss: 0.3083 - val_accuracy: 0.8844\n",
      "Epoch 13/20\n",
      "206/206 [==============================] - 11s 52ms/step - loss: 0.3980 - accuracy: 0.8503 - val_loss: 0.2603 - val_accuracy: 0.9077\n",
      "Epoch 14/20\n",
      "206/206 [==============================] - 11s 51ms/step - loss: 0.4090 - accuracy: 0.8571 - val_loss: 0.3120 - val_accuracy: 0.8970\n",
      "Epoch 15/20\n",
      "206/206 [==============================] - 11s 52ms/step - loss: 0.3354 - accuracy: 0.8941 - val_loss: 0.2161 - val_accuracy: 0.9291\n",
      "Epoch 16/20\n",
      "206/206 [==============================] - 11s 51ms/step - loss: 0.3180 - accuracy: 0.8814 - val_loss: 0.2176 - val_accuracy: 0.9155\n",
      "Epoch 17/20\n",
      "206/206 [==============================] - 11s 52ms/step - loss: 0.2872 - accuracy: 0.8912 - val_loss: 0.1588 - val_accuracy: 0.9456\n",
      "Epoch 18/20\n",
      "206/206 [==============================] - 11s 52ms/step - loss: 0.3198 - accuracy: 0.8814 - val_loss: 0.2277 - val_accuracy: 0.9193\n",
      "Epoch 19/20\n",
      "206/206 [==============================] - 11s 53ms/step - loss: 0.2190 - accuracy: 0.9164 - val_loss: 0.1313 - val_accuracy: 0.9592\n",
      "Epoch 20/20\n",
      "206/206 [==============================] - 11s 52ms/step - loss: 0.1956 - accuracy: 0.9300 - val_loss: 0.1136 - val_accuracy: 0.9650\n"
     ]
    },
    {
     "data": {
      "text/plain": [
       "<tensorflow.python.keras.callbacks.History at 0x1a5bc062198>"
      ]
     },
     "execution_count": 10,
     "metadata": {},
     "output_type": "execute_result"
    }
   ],
   "source": [
    "classifier.fit(\n",
    "        x_train,steps_per_epoch = len(x_train),\n",
    "        epochs=20, validation_data=x_test,validation_steps = len(x_test))# No of images in test set"
   ]
  },
  {
   "cell_type": "code",
   "execution_count": 23,
   "id": "8d092e4a",
   "metadata": {},
   "outputs": [
    {
     "name": "stdout",
     "output_type": "stream",
     "text": [
      "ERROR! Session/line number was not unique in database. History logging moved to new session 42\n"
     ]
    }
   ],
   "source": [
    "classifier.save('saved_model.h5')   # Saving model"
   ]
  },
  {
   "cell_type": "code",
   "execution_count": 15,
   "id": "59cdade2",
   "metadata": {},
   "outputs": [
    {
     "name": "stdout",
     "output_type": "stream",
     "text": [
      "ERROR! Session/line number was not unique in database. History logging moved to new session 35\n"
     ]
    }
   ],
   "source": [
    "from tensorflow.keras.models import load_model\n",
    "from keras.preprocessing import image\n",
    "model = load_model(\"saved_model.h5\") #loading the model for testing"
   ]
  },
  {
   "cell_type": "code",
   "execution_count": 16,
   "id": "f9c1381c",
   "metadata": {},
   "outputs": [
    {
     "data": {
      "text/plain": [
       "array([2], dtype=int64)"
      ]
     },
     "execution_count": 16,
     "metadata": {},
     "output_type": "execute_result"
    }
   ],
   "source": [
    "img = image.load_img(r\"D:\\Dataset\\TRAIN_SET\\ORANGE\\n07749192_97.jpg\",\n",
    "                     grayscale=False,target_size= (64,64))#loading of the image\n",
    "x = image.img_to_array(img)#image to array\n",
    "x = np.expand_dims(x,axis = 0)#changing the shape\n",
    "pred=np.argmax(model.predict(x), axis=1)\n",
    "pred"
   ]
  },
  {
   "cell_type": "code",
   "execution_count": 17,
   "id": "28b28985",
   "metadata": {},
   "outputs": [
    {
     "data": {
      "text/plain": [
       "'ORANGE'"
      ]
     },
     "execution_count": 17,
     "metadata": {},
     "output_type": "execute_result"
    }
   ],
   "source": [
    "index=['APPLES', 'BANANA', 'ORANGE','PINEAPPLE','WATERMELON']\n",
    "result=str(index[pred[0]])\n",
    "result"
   ]
  },
  {
   "cell_type": "code",
   "execution_count": null,
   "id": "0ba036ae",
   "metadata": {},
   "outputs": [],
   "source": []
  }
 ],
 "metadata": {
  "kernelspec": {
   "display_name": "Python 3",
   "language": "python",
   "name": "python3"
  },
  "language_info": {
   "codemirror_mode": {
    "name": "ipython",
    "version": 3
   },
   "file_extension": ".py",
   "mimetype": "text/x-python",
   "name": "python",
   "nbconvert_exporter": "python",
   "pygments_lexer": "ipython3",
   "version": "3.6.13"
  }
 },
 "nbformat": 4,
 "nbformat_minor": 5
}
