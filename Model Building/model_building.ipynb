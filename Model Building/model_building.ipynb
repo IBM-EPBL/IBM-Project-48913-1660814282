{
 "cells": [
  {
   "cell_type": "code",
   "execution_count": 24,
   "id": "7c44918e",
   "metadata": {},
   "outputs": [],
   "source": [
    "import numpy as np#used for numerical analysis\n",
    "import tensorflow #open source used for both ML and DL for computation\n",
    "from tensorflow.keras.models import Sequential #it is a plain stack of layers\n",
    "from tensorflow.keras import layers #A layer consists of a tensor-in tensor-out computation function\n",
    "#Dense layer is the regular deeply connected neural network layer\n",
    "from tensorflow.keras.layers import Dense,Flatten\n",
    "#Faltten-used fot flattening the input or change the dimension\n",
    "from tensorflow.keras.layers import Conv2D,MaxPooling2D,Dropout #Convolutional layer\n",
    "#MaxPooling2D-for downsampling the image\n",
    "from keras.preprocessing.image import ImageDataGenerator"
   ]
  },
  {
   "cell_type": "code",
   "execution_count": null,
   "id": "30141de4",
   "metadata": {},
   "outputs": [],
   "source": [
    "# Initializing the CNN\n",
    "classifier = Sequential()\n",
    "\n",
    "# First convolution layer and pooling\n",
    "classifier.add(Conv2D(32, (3, 3), input_shape=(64, 64, 3), activation='relu'))\n",
    "classifier.add(MaxPooling2D(pool_size=(2, 2)))\n",
    "\n",
    "# Second convolution layer and pooling\n",
    "classifier.add(Conv2D(32, (3, 3), activation='relu'))\n",
    "c\n",
    "# input_shape is going to be the pooled feature maps from the previous convolution layer\n",
    "classifier.add(MaxPooling2D(pool_size=(2, 2)))\n",
    "\n",
    "# Flattening the layers\n",
    "classifier.add(Flatten())\n",
    "\n",
    "# Adding a fully connected layer\n",
    "classifier.add(Dense(units=128, activation='relu'))\n",
    "classifier.add(Dense(units=5, activation='softmax')) # softmax for more than 2\n",
    "\n"
   ]
  },
  {
   "cell_type": "code",
   "execution_count": 25,
   "id": "b79a0e28",
   "metadata": {},
   "outputs": [
    {
     "name": "stdout",
     "output_type": "stream",
     "text": [
      "Model: \"sequential_1\"\n",
      "_________________________________________________________________\n",
      "Layer (type)                 Output Shape              Param #   \n",
      "=================================================================\n",
      "conv2d_2 (Conv2D)            (None, 62, 62, 32)        896       \n",
      "_________________________________________________________________\n",
      "max_pooling2d_2 (MaxPooling2 (None, 31, 31, 32)        0         \n",
      "_________________________________________________________________\n",
      "conv2d_3 (Conv2D)            (None, 29, 29, 32)        9248      \n",
      "_________________________________________________________________\n",
      "max_pooling2d_3 (MaxPooling2 (None, 14, 14, 32)        0         \n",
      "_________________________________________________________________\n",
      "flatten_1 (Flatten)          (None, 6272)              0         \n",
      "_________________________________________________________________\n",
      "dense_2 (Dense)              (None, 128)               802944    \n",
      "_________________________________________________________________\n",
      "dense_3 (Dense)              (None, 5)                 645       \n",
      "=================================================================\n",
      "Total params: 813,733\n",
      "Trainable params: 813,733\n",
      "Non-trainable params: 0\n",
      "_________________________________________________________________\n"
     ]
    }
   ],
   "source": [
    "classifier.summary()#summary of our model"
   ]
  },
  {
   "cell_type": "code",
   "execution_count": 26,
   "id": "8f219bd2",
   "metadata": {},
   "outputs": [],
   "source": [
    "# Compiling the CNN\n",
    "# categorical_crossentropy for more than 2\n",
    "classifier.compile(optimizer='adam', loss='sparse_categorical_crossentropy', metrics=['accuracy']) "
   ]
  },
  {
   "cell_type": "code",
   "execution_count": 27,
   "id": "235b8c1f",
   "metadata": {
    "scrolled": true
   },
   "outputs": [
    {
     "name": "stdout",
     "output_type": "stream",
     "text": [
      "Epoch 1/20\n",
      "818/818 [==============================] - 31s 37ms/step - loss: 1.0134 - accuracy: 0.6168 - val_loss: 0.8680 - val_accuracy: 0.6715\n",
      "Epoch 2/20\n",
      "818/818 [==============================] - 27s 32ms/step - loss: 0.8599 - accuracy: 0.6773 - val_loss: 0.8070 - val_accuracy: 0.7230\n",
      "Epoch 3/20\n",
      "818/818 [==============================] - 26s 32ms/step - loss: 0.7904 - accuracy: 0.7042 - val_loss: 0.7145 - val_accuracy: 0.7473\n",
      "Epoch 4/20\n",
      "818/818 [==============================] - 26s 32ms/step - loss: 0.7498 - accuracy: 0.7157 - val_loss: 0.7741 - val_accuracy: 0.7201\n",
      "Epoch 5/20\n",
      "818/818 [==============================] - 27s 32ms/step - loss: 0.7275 - accuracy: 0.7282 - val_loss: 0.8567 - val_accuracy: 0.6948\n",
      "Epoch 6/20\n",
      "818/818 [==============================] - 27s 33ms/step - loss: 0.6779 - accuracy: 0.7536 - val_loss: 0.7427 - val_accuracy: 0.7289\n",
      "Epoch 7/20\n",
      "818/818 [==============================] - 26s 32ms/step - loss: 0.6231 - accuracy: 0.7693 - val_loss: 0.7178 - val_accuracy: 0.7425\n",
      "Epoch 8/20\n",
      "818/818 [==============================] - 27s 32ms/step - loss: 0.6082 - accuracy: 0.7742 - val_loss: 0.7180 - val_accuracy: 0.7590\n",
      "Epoch 9/20\n",
      "818/818 [==============================] - 27s 33ms/step - loss: 0.5508 - accuracy: 0.7977 - val_loss: 0.7001 - val_accuracy: 0.7590\n",
      "Epoch 10/20\n",
      "818/818 [==============================] - 28s 35ms/step - loss: 0.5290 - accuracy: 0.8087 - val_loss: 0.7246 - val_accuracy: 0.7979\n",
      "Epoch 11/20\n",
      "818/818 [==============================] - 28s 34ms/step - loss: 0.4724 - accuracy: 0.8290 - val_loss: 0.8073 - val_accuracy: 0.7570\n",
      "Epoch 12/20\n",
      "818/818 [==============================] - 27s 33ms/step - loss: 0.4518 - accuracy: 0.8380 - val_loss: 0.7389 - val_accuracy: 0.7775\n",
      "Epoch 13/20\n",
      "818/818 [==============================] - 27s 33ms/step - loss: 0.4170 - accuracy: 0.8473 - val_loss: 0.8097 - val_accuracy: 0.7347\n",
      "Epoch 14/20\n",
      "818/818 [==============================] - 27s 34ms/step - loss: 0.3909 - accuracy: 0.8578 - val_loss: 0.8060 - val_accuracy: 0.7259\n",
      "Epoch 15/20\n",
      "818/818 [==============================] - 28s 34ms/step - loss: 0.3604 - accuracy: 0.8723 - val_loss: 0.9770 - val_accuracy: 0.7172\n",
      "Epoch 16/20\n",
      "818/818 [==============================] - 28s 34ms/step - loss: 0.3177 - accuracy: 0.8823 - val_loss: 0.8997 - val_accuracy: 0.7502\n",
      "Epoch 17/20\n",
      "818/818 [==============================] - 28s 34ms/step - loss: 0.3181 - accuracy: 0.8838 - val_loss: 0.8560 - val_accuracy: 0.7502\n",
      "Epoch 18/20\n",
      "818/818 [==============================] - 28s 34ms/step - loss: 0.2724 - accuracy: 0.9051 - val_loss: 1.0304 - val_accuracy: 0.7211\n",
      "Epoch 19/20\n",
      "818/818 [==============================] - 27s 34ms/step - loss: 0.2568 - accuracy: 0.9053 - val_loss: 1.0279 - val_accuracy: 0.7396\n",
      "Epoch 20/20\n",
      "818/818 [==============================] - 28s 34ms/step - loss: 0.2489 - accuracy: 0.9134 - val_loss: 0.9830 - val_accuracy: 0.7668\n"
     ]
    },
    {
     "data": {
      "text/plain": [
       "<keras.callbacks.History at 0x19b7e60fa00>"
      ]
     },
     "execution_count": 27,
     "metadata": {},
     "output_type": "execute_result"
    }
   ],
   "source": [
    "classifier.fit(\n",
    "        x_train,steps_per_epoch = len(x_train),\n",
    "        epochs=20, validation_data=x_test,validation_steps = len(x_test))# No of images in test set"
   ]
  },
  {
   "cell_type": "code",
   "execution_count": 35,
   "id": "8d092e4a",
   "metadata": {},
   "outputs": [],
   "source": [
    "classifier.save('D:\\nutri.h5')#save the model"
   ]
  },
  {
   "cell_type": "code",
   "execution_count": 41,
   "id": "59cdade2",
   "metadata": {},
   "outputs": [],
   "source": [
    "from tensorflow.keras.models import load_model\n",
    "from keras.preprocessing import image\n",
    "model = load_model(\"nutri.h5\") #loading the model for testing"
   ]
  },
  {
   "cell_type": "code",
   "execution_count": 42,
   "id": "f9c1381c",
   "metadata": {},
   "outputs": [
    {
     "data": {
      "text/plain": [
       "array([2], dtype=int64)"
      ]
     },
     "execution_count": 42,
     "metadata": {},
     "output_type": "execute_result"
    }
   ],
   "source": [
    "img = image.load_img(r\"D:\\Dataset\\TRAIN_SET\\ORANGE\\n07749192_97.jpg\",\n",
    "                     grayscale=False,target_size= (64,64))#loading of the image\n",
    "x = image.img_to_array(img)#image to array\n",
    "x = np.expand_dims(x,axis = 0)#changing the shape\n",
    "pred=np.argmax(model.predict(x), axis=1)\n",
    "pred"
   ]
  },
  {
   "cell_type": "code",
   "execution_count": 43,
   "id": "28b28985",
   "metadata": {},
   "outputs": [
    {
     "data": {
      "text/plain": [
       "'ORANGE'"
      ]
     },
     "execution_count": 43,
     "metadata": {},
     "output_type": "execute_result"
    }
   ],
   "source": [
    "index=['APPLES', 'BANANA', 'ORANGE','PINEAPPLE','WATERMELON']\n",
    "result=str(index[pred[0]])\n",
    "result"
   ]
  },
  {
   "cell_type": "code",
   "execution_count": null,
   "id": "0ba036ae",
   "metadata": {},
   "outputs": [],
   "source": []
  }
 ],
 "metadata": {
  "kernelspec": {
   "display_name": "Python 3 (ipykernel)",
   "language": "python",
   "name": "python3"
  },
  "language_info": {
   "codemirror_mode": {
    "name": "ipython",
    "version": 3
   },
   "file_extension": ".py",
   "mimetype": "text/x-python",
   "name": "python",
   "nbconvert_exporter": "python",
   "pygments_lexer": "ipython3",
   "version": "3.9.13"
  }
 },
 "nbformat": 4,
 "nbformat_minor": 5
}
